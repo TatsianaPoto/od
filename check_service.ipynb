{
 "cells": [
  {
   "cell_type": "code",
   "execution_count": 1,
   "metadata": {},
   "outputs": [],
   "source": [
    "import numpy as np\n",
    "import requests\n",
    "import cv2\n",
    "import matplotlib.pyplot as plt"
   ]
  },
  {
   "cell_type": "code",
   "execution_count": 2,
   "metadata": {},
   "outputs": [],
   "source": [
    "url_local = 'http://127.0.0.1:6000/'"
   ]
  },
  {
   "cell_type": "code",
   "execution_count": 3,
   "metadata": {},
   "outputs": [],
   "source": [
    "source = '/home/tanya/repos/Number-Detection/data/test_dataset/videos/2021-01-27-16h25m53s.mp4'"
   ]
  },
  {
   "cell_type": "code",
   "execution_count": 4,
   "metadata": {},
   "outputs": [],
   "source": [
    "def send_frame(url,image):\n",
    "    img_bytes = image.tobytes()\n",
    "\n",
    "    data = {'width': image.shape[1], 'height': image.shape[0]}\n",
    "    state = requests.post(url, data=data, files={'videoframe': img_bytes})\n",
    "\n",
    "    state = state.json()\n",
    "    print(state)\n",
    "    return state\n",
    "\n",
    "def send_switch(url,mode):\n",
    "    data = {'mode': mode}\n",
    "    state = requests.post(url + 'switch', data=data)\n",
    "\n",
    "    state = state.json()\n",
    "    print(state)\n",
    "    return state"
   ]
  },
  {
   "cell_type": "code",
   "execution_count": 18,
   "metadata": {},
   "outputs": [],
   "source": [
    "cap = cv2.VideoCapture(source)"
   ]
  },
  {
   "cell_type": "code",
   "execution_count": 19,
   "metadata": {},
   "outputs": [
    {
     "name": "stdout",
     "output_type": "stream",
     "text": [
      "{'result': {}, 'message': 'status: Ok', 'is_error': 0}\n"
     ]
    },
    {
     "data": {
      "text/plain": [
       "{'result': {}, 'message': 'status: Ok', 'is_error': 0}"
      ]
     },
     "execution_count": 19,
     "metadata": {},
     "output_type": "execute_result"
    }
   ],
   "source": [
    "send_switch(url_local,'start')"
   ]
  },
  {
   "cell_type": "code",
   "execution_count": 20,
   "metadata": {},
   "outputs": [
    {
     "name": "stdout",
     "output_type": "stream",
     "text": [
      "{'result': {'box': [1224, 116, 1433, 277], 'current_number': 'FCGU6120544SB7', 'score': '0.9125279188156128'}, 'latency_ms': 203.48715782165527, 'message': 'status: Ok', 'is_error': 0}\n",
      "{'result': {'box': [1168, 109, 1394, 276], 'current_number': 'FCGU61205445RI', 'score': '0.8821549415588379'}, 'latency_ms': 195.98150253295898, 'message': 'status: Ok', 'is_error': 0}\n",
      "{'result': {'box': [1094, 99, 1348, 272], 'current_number': 'FCGU61205445R1', 'score': '0.8939253687858582'}, 'latency_ms': 197.7670192718506, 'message': 'status: Ok', 'is_error': 0}\n",
      "{'result': {'box': [1016, 89, 1294, 271], 'current_number': 'FCGU61205445R1', 'score': '0.9181858897209167'}, 'latency_ms': 196.87247276306152, 'message': 'status: Ok', 'is_error': 0}\n",
      "{'result': {'box': [933, 81, 1237, 269], 'current_number': 'FCGU612054145R1', 'score': '0.9017475843429565'}, 'latency_ms': 216.1848545074463, 'message': 'status: Ok', 'is_error': 0}\n",
      "{'result': {'box': [820, 70, 1162, 261], 'current_number': 'FCGU61205445R1', 'score': '0.8947487473487854'}, 'latency_ms': 206.88557624816895, 'message': 'status: Ok', 'is_error': 0}\n",
      "{'result': {'box': [707, 57, 1071, 258], 'current_number': 'FCGU612054745R1', 'score': '0.9192894101142883'}, 'latency_ms': 223.72031211853027, 'message': 'status: Ok', 'is_error': 0}\n",
      "{'result': {'box': [578, 47, 979, 257], 'current_number': 'FCGU612054145R1', 'score': '0.896198570728302'}, 'latency_ms': 235.17155647277832, 'message': 'status: Ok', 'is_error': 0}\n",
      "{'result': {'box': [409, 29, 854, 258], 'current_number': 'FGGU612054145R1', 'score': '0.8856691122055054'}, 'latency_ms': 239.94898796081543, 'message': 'status: Ok', 'is_error': 0}\n",
      "{'result': {'box': [264, 15, 720, 253], 'current_number': 'FCGU6120541A5R1', 'score': '0.8832186460494995'}, 'latency_ms': 246.25253677368164, 'message': 'status: Ok', 'is_error': 0}\n",
      "{'result': {'box': [107, 4, 578, 251], 'current_number': 'FCGU612054145R1', 'score': '0.887778103351593'}, 'latency_ms': 244.23503875732422, 'message': 'status: Ok', 'is_error': 0}\n",
      "{'result': {'box': [-25, 0, 418, 249], 'current_number': 'FCGU612054145R1', 'score': '0.9123081564903259'}, 'latency_ms': 225.91805458068848, 'message': 'status: Ok', 'is_error': 0}\n",
      "{'result': {'box': [-22, 5, 280, 241], 'current_number': 'HTZOSL145R1', 'score': '0.9068794250488281'}, 'latency_ms': 185.49251556396484, 'message': 'status: Ok', 'is_error': 0}\n",
      "{'result': {}, 'latency_ms': 118.05224418640137, 'message': 'status: Ok', 'is_error': 0}\n",
      "{'result': {}, 'latency_ms': 61.17129325866699, 'message': 'status: Ok', 'is_error': 0}\n",
      "{'result': {}, 'latency_ms': 69.4890022277832, 'message': 'status: Ok', 'is_error': 0}\n",
      "{'result': {}, 'latency_ms': 61.9053840637207, 'message': 'status: Ok', 'is_error': 0}\n",
      "{'result': {}, 'latency_ms': 56.878089904785156, 'message': 'status: Ok', 'is_error': 0}\n",
      "{'result': {}, 'latency_ms': 84.92302894592285, 'message': 'status: Ok', 'is_error': 0}\n",
      "{'result': {}, 'latency_ms': 57.74331092834473, 'message': 'status: Ok', 'is_error': 0}\n",
      "{'result': {}, 'latency_ms': 51.14889144897461, 'message': 'status: Ok', 'is_error': 0}\n"
     ]
    }
   ],
   "source": [
    "num_frames = 0\n",
    "fps = 10\n",
    "while(cap.isOpened()):\n",
    "    ret, image = cap.read()\n",
    "    if not ret:\n",
    "        break\n",
    "    num_frames += 1\n",
    "    if num_frames%fps==0:\n",
    "        res = send_frame(url_local,image)\n",
    "cap.release()  "
   ]
  },
  {
   "cell_type": "code",
   "execution_count": 21,
   "metadata": {},
   "outputs": [
    {
     "name": "stdout",
     "output_type": "stream",
     "text": [
      "{'result': {'final_number': 'FCGU612054145R1'}, 'message': 'status: Ok', 'is_error': 0}\n"
     ]
    },
    {
     "data": {
      "text/plain": [
       "{'result': {'final_number': 'FCGU612054145R1'},\n",
       " 'message': 'status: Ok',\n",
       " 'is_error': 0}"
      ]
     },
     "execution_count": 21,
     "metadata": {},
     "output_type": "execute_result"
    }
   ],
   "source": [
    "send_switch(url_local,'stop')"
   ]
  },
  {
   "cell_type": "code",
   "execution_count": 3,
   "metadata": {},
   "outputs": [],
   "source": [
    "def show_img(e1,e2,state):\n",
    "    img = form_image.get_image(e2.T, e1.T)\n",
    "\n",
    "    img = cv2.UMat(img)\n",
    "    # cv2.imwrite('test1.png',img1)\n",
    "    def plot_one_box(x, img):\n",
    "\n",
    "        c1, c2 = (int(x[0]), int(x[1])), (int(x[2]), int(x[3]))\n",
    "        cv2.rectangle(img, c1, c2, (0, 0, 255), 2)\n",
    "\n",
    "    for i in range(len(state['rois'])):\n",
    "        shape = state['rois'][i]['box']\n",
    "        plot_one_box(shape, img)\n",
    "\n",
    "    show = cv2.cvtColor(cv2.UMat.get(img),cv2.COLOR_BGR2RGB)\n",
    "    plt.imshow(show)"
   ]
  },
  {
   "cell_type": "code",
   "execution_count": null,
   "metadata": {},
   "outputs": [],
   "source": []
  }
 ],
 "metadata": {
  "kernelspec": {
   "display_name": "Python 3",
   "language": "python",
   "name": "python3"
  },
  "language_info": {
   "codemirror_mode": {
    "name": "ipython",
    "version": 3
   },
   "file_extension": ".py",
   "mimetype": "text/x-python",
   "name": "python",
   "nbconvert_exporter": "python",
   "pygments_lexer": "ipython3",
   "version": "3.8.3"
  }
 },
 "nbformat": 4,
 "nbformat_minor": 4
}